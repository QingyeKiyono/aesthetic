{
 "cells": [
  {
   "cell_type": "code",
   "execution_count": 1,
   "metadata": {
    "collapsed": true
   },
   "outputs": [],
   "source": [
    "import pandas as pd"
   ]
  },
  {
   "cell_type": "code",
   "execution_count": 2,
   "outputs": [
    {
     "data": {
      "text/plain": "   index  img_id  score_1  score_2  score_3  score_4  score_5  score_6  \\\n0      1  953619        0        1        5       17       38       36   \n1      2  953958       10        7       15       26       26       21   \n2      3  954184        0        0        4        8       41       56   \n3      4  954113        0        1        4        6       48       37   \n4      5  953980        0        3        6       15       57       39   \n5      6  954175        0        0        5       13       40       53   \n6      7  953349        1        1        1        7       27       46   \n7      8  953645        0        0        0        8       33       51   \n8      9  953897        0        0        0        5       19       46   \n9     10  953841        0        0        3        8       37       44   \n\n   score_7  score_8  score_9  score_10  sem_id_1  sem_id_2  challenge_id  \n0       15        6        5         1         1        22          1396  \n1       10        8        1         2         1        21          1396  \n2       10        3        4         0         0         0          1396  \n3       23        5        2         2        15        21          1396  \n4        6        1        1         1        22        38          1396  \n5       14        1        3         1        15        65          1396  \n6       28       13        4         0        16        21          1396  \n7       27        3        3         2         0         0          1396  \n8       29       22        5         2         7        14          1396  \n9       22        9        4         2        14        53          1396  ",
      "text/html": "<div>\n<style scoped>\n    .dataframe tbody tr th:only-of-type {\n        vertical-align: middle;\n    }\n\n    .dataframe tbody tr th {\n        vertical-align: top;\n    }\n\n    .dataframe thead th {\n        text-align: right;\n    }\n</style>\n<table border=\"1\" class=\"dataframe\">\n  <thead>\n    <tr style=\"text-align: right;\">\n      <th></th>\n      <th>index</th>\n      <th>img_id</th>\n      <th>score_1</th>\n      <th>score_2</th>\n      <th>score_3</th>\n      <th>score_4</th>\n      <th>score_5</th>\n      <th>score_6</th>\n      <th>score_7</th>\n      <th>score_8</th>\n      <th>score_9</th>\n      <th>score_10</th>\n      <th>sem_id_1</th>\n      <th>sem_id_2</th>\n      <th>challenge_id</th>\n    </tr>\n  </thead>\n  <tbody>\n    <tr>\n      <th>0</th>\n      <td>1</td>\n      <td>953619</td>\n      <td>0</td>\n      <td>1</td>\n      <td>5</td>\n      <td>17</td>\n      <td>38</td>\n      <td>36</td>\n      <td>15</td>\n      <td>6</td>\n      <td>5</td>\n      <td>1</td>\n      <td>1</td>\n      <td>22</td>\n      <td>1396</td>\n    </tr>\n    <tr>\n      <th>1</th>\n      <td>2</td>\n      <td>953958</td>\n      <td>10</td>\n      <td>7</td>\n      <td>15</td>\n      <td>26</td>\n      <td>26</td>\n      <td>21</td>\n      <td>10</td>\n      <td>8</td>\n      <td>1</td>\n      <td>2</td>\n      <td>1</td>\n      <td>21</td>\n      <td>1396</td>\n    </tr>\n    <tr>\n      <th>2</th>\n      <td>3</td>\n      <td>954184</td>\n      <td>0</td>\n      <td>0</td>\n      <td>4</td>\n      <td>8</td>\n      <td>41</td>\n      <td>56</td>\n      <td>10</td>\n      <td>3</td>\n      <td>4</td>\n      <td>0</td>\n      <td>0</td>\n      <td>0</td>\n      <td>1396</td>\n    </tr>\n    <tr>\n      <th>3</th>\n      <td>4</td>\n      <td>954113</td>\n      <td>0</td>\n      <td>1</td>\n      <td>4</td>\n      <td>6</td>\n      <td>48</td>\n      <td>37</td>\n      <td>23</td>\n      <td>5</td>\n      <td>2</td>\n      <td>2</td>\n      <td>15</td>\n      <td>21</td>\n      <td>1396</td>\n    </tr>\n    <tr>\n      <th>4</th>\n      <td>5</td>\n      <td>953980</td>\n      <td>0</td>\n      <td>3</td>\n      <td>6</td>\n      <td>15</td>\n      <td>57</td>\n      <td>39</td>\n      <td>6</td>\n      <td>1</td>\n      <td>1</td>\n      <td>1</td>\n      <td>22</td>\n      <td>38</td>\n      <td>1396</td>\n    </tr>\n    <tr>\n      <th>5</th>\n      <td>6</td>\n      <td>954175</td>\n      <td>0</td>\n      <td>0</td>\n      <td>5</td>\n      <td>13</td>\n      <td>40</td>\n      <td>53</td>\n      <td>14</td>\n      <td>1</td>\n      <td>3</td>\n      <td>1</td>\n      <td>15</td>\n      <td>65</td>\n      <td>1396</td>\n    </tr>\n    <tr>\n      <th>6</th>\n      <td>7</td>\n      <td>953349</td>\n      <td>1</td>\n      <td>1</td>\n      <td>1</td>\n      <td>7</td>\n      <td>27</td>\n      <td>46</td>\n      <td>28</td>\n      <td>13</td>\n      <td>4</td>\n      <td>0</td>\n      <td>16</td>\n      <td>21</td>\n      <td>1396</td>\n    </tr>\n    <tr>\n      <th>7</th>\n      <td>8</td>\n      <td>953645</td>\n      <td>0</td>\n      <td>0</td>\n      <td>0</td>\n      <td>8</td>\n      <td>33</td>\n      <td>51</td>\n      <td>27</td>\n      <td>3</td>\n      <td>3</td>\n      <td>2</td>\n      <td>0</td>\n      <td>0</td>\n      <td>1396</td>\n    </tr>\n    <tr>\n      <th>8</th>\n      <td>9</td>\n      <td>953897</td>\n      <td>0</td>\n      <td>0</td>\n      <td>0</td>\n      <td>5</td>\n      <td>19</td>\n      <td>46</td>\n      <td>29</td>\n      <td>22</td>\n      <td>5</td>\n      <td>2</td>\n      <td>7</td>\n      <td>14</td>\n      <td>1396</td>\n    </tr>\n    <tr>\n      <th>9</th>\n      <td>10</td>\n      <td>953841</td>\n      <td>0</td>\n      <td>0</td>\n      <td>3</td>\n      <td>8</td>\n      <td>37</td>\n      <td>44</td>\n      <td>22</td>\n      <td>9</td>\n      <td>4</td>\n      <td>2</td>\n      <td>14</td>\n      <td>53</td>\n      <td>1396</td>\n    </tr>\n  </tbody>\n</table>\n</div>"
     },
     "execution_count": 2,
     "metadata": {},
     "output_type": "execute_result"
    }
   ],
   "source": [
    "# 加载标签并简单查看标签\n",
    "ava_data = pd.read_csv(\"../data/raw_labels/AVA.txt\", sep=\" \",\n",
    "                       names=[\"index\", \"img_id\",\n",
    "                              \"score_1\", \"score_2\", \"score_3\", \"score_4\", \"score_5\",\n",
    "                              \"score_6\", \"score_7\", \"score_8\", \"score_9\", \"score_10\",\n",
    "                              \"sem_id_1\", \"sem_id_2\",\n",
    "                              \"challenge_id\"])\n",
    "\n",
    "ava_data.head(10)"
   ],
   "metadata": {
    "collapsed": false
   }
  },
  {
   "cell_type": "code",
   "execution_count": 3,
   "outputs": [
    {
     "data": {
      "text/plain": "   index  img_id  score_1  score_2  score_3  score_4  score_5  score_6  \\\n0      1  953619        0        1        5       17       38       36   \n1      2  953958       10        7       15       26       26       21   \n2      3  954184        0        0        4        8       41       56   \n3      4  954113        0        1        4        6       48       37   \n4      5  953980        0        3        6       15       57       39   \n5      6  954175        0        0        5       13       40       53   \n6      7  953349        1        1        1        7       27       46   \n7      8  953645        0        0        0        8       33       51   \n8      9  953897        0        0        0        5       19       46   \n9     10  953841        0        0        3        8       37       44   \n\n   score_7  score_8  score_9  score_10  \n0       15        6        5         1  \n1       10        8        1         2  \n2       10        3        4         0  \n3       23        5        2         2  \n4        6        1        1         1  \n5       14        1        3         1  \n6       28       13        4         0  \n7       27        3        3         2  \n8       29       22        5         2  \n9       22        9        4         2  ",
      "text/html": "<div>\n<style scoped>\n    .dataframe tbody tr th:only-of-type {\n        vertical-align: middle;\n    }\n\n    .dataframe tbody tr th {\n        vertical-align: top;\n    }\n\n    .dataframe thead th {\n        text-align: right;\n    }\n</style>\n<table border=\"1\" class=\"dataframe\">\n  <thead>\n    <tr style=\"text-align: right;\">\n      <th></th>\n      <th>index</th>\n      <th>img_id</th>\n      <th>score_1</th>\n      <th>score_2</th>\n      <th>score_3</th>\n      <th>score_4</th>\n      <th>score_5</th>\n      <th>score_6</th>\n      <th>score_7</th>\n      <th>score_8</th>\n      <th>score_9</th>\n      <th>score_10</th>\n    </tr>\n  </thead>\n  <tbody>\n    <tr>\n      <th>0</th>\n      <td>1</td>\n      <td>953619</td>\n      <td>0</td>\n      <td>1</td>\n      <td>5</td>\n      <td>17</td>\n      <td>38</td>\n      <td>36</td>\n      <td>15</td>\n      <td>6</td>\n      <td>5</td>\n      <td>1</td>\n    </tr>\n    <tr>\n      <th>1</th>\n      <td>2</td>\n      <td>953958</td>\n      <td>10</td>\n      <td>7</td>\n      <td>15</td>\n      <td>26</td>\n      <td>26</td>\n      <td>21</td>\n      <td>10</td>\n      <td>8</td>\n      <td>1</td>\n      <td>2</td>\n    </tr>\n    <tr>\n      <th>2</th>\n      <td>3</td>\n      <td>954184</td>\n      <td>0</td>\n      <td>0</td>\n      <td>4</td>\n      <td>8</td>\n      <td>41</td>\n      <td>56</td>\n      <td>10</td>\n      <td>3</td>\n      <td>4</td>\n      <td>0</td>\n    </tr>\n    <tr>\n      <th>3</th>\n      <td>4</td>\n      <td>954113</td>\n      <td>0</td>\n      <td>1</td>\n      <td>4</td>\n      <td>6</td>\n      <td>48</td>\n      <td>37</td>\n      <td>23</td>\n      <td>5</td>\n      <td>2</td>\n      <td>2</td>\n    </tr>\n    <tr>\n      <th>4</th>\n      <td>5</td>\n      <td>953980</td>\n      <td>0</td>\n      <td>3</td>\n      <td>6</td>\n      <td>15</td>\n      <td>57</td>\n      <td>39</td>\n      <td>6</td>\n      <td>1</td>\n      <td>1</td>\n      <td>1</td>\n    </tr>\n    <tr>\n      <th>5</th>\n      <td>6</td>\n      <td>954175</td>\n      <td>0</td>\n      <td>0</td>\n      <td>5</td>\n      <td>13</td>\n      <td>40</td>\n      <td>53</td>\n      <td>14</td>\n      <td>1</td>\n      <td>3</td>\n      <td>1</td>\n    </tr>\n    <tr>\n      <th>6</th>\n      <td>7</td>\n      <td>953349</td>\n      <td>1</td>\n      <td>1</td>\n      <td>1</td>\n      <td>7</td>\n      <td>27</td>\n      <td>46</td>\n      <td>28</td>\n      <td>13</td>\n      <td>4</td>\n      <td>0</td>\n    </tr>\n    <tr>\n      <th>7</th>\n      <td>8</td>\n      <td>953645</td>\n      <td>0</td>\n      <td>0</td>\n      <td>0</td>\n      <td>8</td>\n      <td>33</td>\n      <td>51</td>\n      <td>27</td>\n      <td>3</td>\n      <td>3</td>\n      <td>2</td>\n    </tr>\n    <tr>\n      <th>8</th>\n      <td>9</td>\n      <td>953897</td>\n      <td>0</td>\n      <td>0</td>\n      <td>0</td>\n      <td>5</td>\n      <td>19</td>\n      <td>46</td>\n      <td>29</td>\n      <td>22</td>\n      <td>5</td>\n      <td>2</td>\n    </tr>\n    <tr>\n      <th>9</th>\n      <td>10</td>\n      <td>953841</td>\n      <td>0</td>\n      <td>0</td>\n      <td>3</td>\n      <td>8</td>\n      <td>37</td>\n      <td>44</td>\n      <td>22</td>\n      <td>9</td>\n      <td>4</td>\n      <td>2</td>\n    </tr>\n  </tbody>\n</table>\n</div>"
     },
     "execution_count": 3,
     "metadata": {},
     "output_type": "execute_result"
    }
   ],
   "source": [
    "# 用于删除无用的列\n",
    "ava_data.drop(labels=[\"sem_id_1\", \"sem_id_2\", \"challenge_id\"], axis=1, inplace=True)\n",
    "ava_data.head(10)"
   ],
   "metadata": {
    "collapsed": false
   }
  },
  {
   "cell_type": "code",
   "execution_count": 4,
   "outputs": [
    {
     "data": {
      "text/plain": "   index  img_id  score_1  score_2  score_3  score_4  score_5  score_6  \\\n0      1  953619        0        1        5       17       38       36   \n1      2  953958       10        7       15       26       26       21   \n2      3  954184        0        0        4        8       41       56   \n3      4  954113        0        1        4        6       48       37   \n4      5  953980        0        3        6       15       57       39   \n5      6  954175        0        0        5       13       40       53   \n6      7  953349        1        1        1        7       27       46   \n7      8  953645        0        0        0        8       33       51   \n8      9  953897        0        0        0        5       19       46   \n9     10  953841        0        0        3        8       37       44   \n\n   score_7  score_8  score_9  score_10  score  count  avg_score  \n0       15        6        5         1    699    124      5.637  \n1       10        8        1         2    592    126      4.698  \n2       10        3        4         0    715    126      5.675  \n3       23        5        2         2    739    128      5.773  \n4        6        1        1         1    672    129      5.209  \n5       14        1        3         1    728    130      5.600  \n6       28       13        4         0    781    128      6.102  \n7       27        3        3         2    763    127      6.008  \n8       29       22        5         2    835    128      6.523  \n9       22        9        4         2    772    129      5.984  ",
      "text/html": "<div>\n<style scoped>\n    .dataframe tbody tr th:only-of-type {\n        vertical-align: middle;\n    }\n\n    .dataframe tbody tr th {\n        vertical-align: top;\n    }\n\n    .dataframe thead th {\n        text-align: right;\n    }\n</style>\n<table border=\"1\" class=\"dataframe\">\n  <thead>\n    <tr style=\"text-align: right;\">\n      <th></th>\n      <th>index</th>\n      <th>img_id</th>\n      <th>score_1</th>\n      <th>score_2</th>\n      <th>score_3</th>\n      <th>score_4</th>\n      <th>score_5</th>\n      <th>score_6</th>\n      <th>score_7</th>\n      <th>score_8</th>\n      <th>score_9</th>\n      <th>score_10</th>\n      <th>score</th>\n      <th>count</th>\n      <th>avg_score</th>\n    </tr>\n  </thead>\n  <tbody>\n    <tr>\n      <th>0</th>\n      <td>1</td>\n      <td>953619</td>\n      <td>0</td>\n      <td>1</td>\n      <td>5</td>\n      <td>17</td>\n      <td>38</td>\n      <td>36</td>\n      <td>15</td>\n      <td>6</td>\n      <td>5</td>\n      <td>1</td>\n      <td>699</td>\n      <td>124</td>\n      <td>5.637</td>\n    </tr>\n    <tr>\n      <th>1</th>\n      <td>2</td>\n      <td>953958</td>\n      <td>10</td>\n      <td>7</td>\n      <td>15</td>\n      <td>26</td>\n      <td>26</td>\n      <td>21</td>\n      <td>10</td>\n      <td>8</td>\n      <td>1</td>\n      <td>2</td>\n      <td>592</td>\n      <td>126</td>\n      <td>4.698</td>\n    </tr>\n    <tr>\n      <th>2</th>\n      <td>3</td>\n      <td>954184</td>\n      <td>0</td>\n      <td>0</td>\n      <td>4</td>\n      <td>8</td>\n      <td>41</td>\n      <td>56</td>\n      <td>10</td>\n      <td>3</td>\n      <td>4</td>\n      <td>0</td>\n      <td>715</td>\n      <td>126</td>\n      <td>5.675</td>\n    </tr>\n    <tr>\n      <th>3</th>\n      <td>4</td>\n      <td>954113</td>\n      <td>0</td>\n      <td>1</td>\n      <td>4</td>\n      <td>6</td>\n      <td>48</td>\n      <td>37</td>\n      <td>23</td>\n      <td>5</td>\n      <td>2</td>\n      <td>2</td>\n      <td>739</td>\n      <td>128</td>\n      <td>5.773</td>\n    </tr>\n    <tr>\n      <th>4</th>\n      <td>5</td>\n      <td>953980</td>\n      <td>0</td>\n      <td>3</td>\n      <td>6</td>\n      <td>15</td>\n      <td>57</td>\n      <td>39</td>\n      <td>6</td>\n      <td>1</td>\n      <td>1</td>\n      <td>1</td>\n      <td>672</td>\n      <td>129</td>\n      <td>5.209</td>\n    </tr>\n    <tr>\n      <th>5</th>\n      <td>6</td>\n      <td>954175</td>\n      <td>0</td>\n      <td>0</td>\n      <td>5</td>\n      <td>13</td>\n      <td>40</td>\n      <td>53</td>\n      <td>14</td>\n      <td>1</td>\n      <td>3</td>\n      <td>1</td>\n      <td>728</td>\n      <td>130</td>\n      <td>5.600</td>\n    </tr>\n    <tr>\n      <th>6</th>\n      <td>7</td>\n      <td>953349</td>\n      <td>1</td>\n      <td>1</td>\n      <td>1</td>\n      <td>7</td>\n      <td>27</td>\n      <td>46</td>\n      <td>28</td>\n      <td>13</td>\n      <td>4</td>\n      <td>0</td>\n      <td>781</td>\n      <td>128</td>\n      <td>6.102</td>\n    </tr>\n    <tr>\n      <th>7</th>\n      <td>8</td>\n      <td>953645</td>\n      <td>0</td>\n      <td>0</td>\n      <td>0</td>\n      <td>8</td>\n      <td>33</td>\n      <td>51</td>\n      <td>27</td>\n      <td>3</td>\n      <td>3</td>\n      <td>2</td>\n      <td>763</td>\n      <td>127</td>\n      <td>6.008</td>\n    </tr>\n    <tr>\n      <th>8</th>\n      <td>9</td>\n      <td>953897</td>\n      <td>0</td>\n      <td>0</td>\n      <td>0</td>\n      <td>5</td>\n      <td>19</td>\n      <td>46</td>\n      <td>29</td>\n      <td>22</td>\n      <td>5</td>\n      <td>2</td>\n      <td>835</td>\n      <td>128</td>\n      <td>6.523</td>\n    </tr>\n    <tr>\n      <th>9</th>\n      <td>10</td>\n      <td>953841</td>\n      <td>0</td>\n      <td>0</td>\n      <td>3</td>\n      <td>8</td>\n      <td>37</td>\n      <td>44</td>\n      <td>22</td>\n      <td>9</td>\n      <td>4</td>\n      <td>2</td>\n      <td>772</td>\n      <td>129</td>\n      <td>5.984</td>\n    </tr>\n  </tbody>\n</table>\n</div>"
     },
     "execution_count": 4,
     "metadata": {},
     "output_type": "execute_result"
    }
   ],
   "source": [
    "# 对打分进行直接求和和加权求和\n",
    "score_cols = [\"score_1\", \"score_2\", \"score_3\", \"score_4\", \"score_5\",\n",
    "              \"score_6\", \"score_7\", \"score_8\", \"score_9\", \"score_10\"]\n",
    "\n",
    "ava_data[\"score\"] = sum(ava_data[score_cols[i - 1]] * i for i in range(1, 11))  # 总分\n",
    "ava_data[\"count\"] = sum(ava_data[score_cols[i - 1]] for i in range(1, 11))  # 有多少人进行投票\n",
    "ava_data[\"avg_score\"] = round(ava_data[\"score\"] / ava_data[\"count\"], 3)  # 最终分值，保留到小数点后三位\n",
    "\n",
    "ava_data.head(10)"
   ],
   "metadata": {
    "collapsed": false
   }
  },
  {
   "cell_type": "code",
   "execution_count": 5,
   "outputs": [
    {
     "data": {
      "text/plain": "   index  img_id  avg_score\n0      1  953619      5.637\n1      2  953958      4.698\n2      3  954184      5.675\n3      4  954113      5.773\n4      5  953980      5.209\n5      6  954175      5.600\n6      7  953349      6.102\n7      8  953645      6.008\n8      9  953897      6.523\n9     10  953841      5.984",
      "text/html": "<div>\n<style scoped>\n    .dataframe tbody tr th:only-of-type {\n        vertical-align: middle;\n    }\n\n    .dataframe tbody tr th {\n        vertical-align: top;\n    }\n\n    .dataframe thead th {\n        text-align: right;\n    }\n</style>\n<table border=\"1\" class=\"dataframe\">\n  <thead>\n    <tr style=\"text-align: right;\">\n      <th></th>\n      <th>index</th>\n      <th>img_id</th>\n      <th>avg_score</th>\n    </tr>\n  </thead>\n  <tbody>\n    <tr>\n      <th>0</th>\n      <td>1</td>\n      <td>953619</td>\n      <td>5.637</td>\n    </tr>\n    <tr>\n      <th>1</th>\n      <td>2</td>\n      <td>953958</td>\n      <td>4.698</td>\n    </tr>\n    <tr>\n      <th>2</th>\n      <td>3</td>\n      <td>954184</td>\n      <td>5.675</td>\n    </tr>\n    <tr>\n      <th>3</th>\n      <td>4</td>\n      <td>954113</td>\n      <td>5.773</td>\n    </tr>\n    <tr>\n      <th>4</th>\n      <td>5</td>\n      <td>953980</td>\n      <td>5.209</td>\n    </tr>\n    <tr>\n      <th>5</th>\n      <td>6</td>\n      <td>954175</td>\n      <td>5.600</td>\n    </tr>\n    <tr>\n      <th>6</th>\n      <td>7</td>\n      <td>953349</td>\n      <td>6.102</td>\n    </tr>\n    <tr>\n      <th>7</th>\n      <td>8</td>\n      <td>953645</td>\n      <td>6.008</td>\n    </tr>\n    <tr>\n      <th>8</th>\n      <td>9</td>\n      <td>953897</td>\n      <td>6.523</td>\n    </tr>\n    <tr>\n      <th>9</th>\n      <td>10</td>\n      <td>953841</td>\n      <td>5.984</td>\n    </tr>\n  </tbody>\n</table>\n</div>"
     },
     "execution_count": 5,
     "metadata": {},
     "output_type": "execute_result"
    }
   ],
   "source": [
    "# 再次删除无用列\n",
    "ava_data.drop(labels=[\"score\", \"count\", *score_cols], axis=1, inplace=True)\n",
    "ava_data.head(10)"
   ],
   "metadata": {
    "collapsed": false
   }
  },
  {
   "cell_type": "code",
   "execution_count": 6,
   "outputs": [
    {
     "data": {
      "text/plain": "         index  img_id  avg_score\n221233  221234  701246      6.172\n82612    82613  603675      6.016\n121343  121344  248467      6.128\n133982  133983  150464      4.679\n253183  253184  905387      4.969\n...        ...     ...        ...\n9056      9057  616741      5.914\n211031  211032    3960      5.375\n238133  238134  174698      4.401\n95706    95707  886994      5.197\n39495    39496  783474      5.387\n\n[100 rows x 3 columns]",
      "text/html": "<div>\n<style scoped>\n    .dataframe tbody tr th:only-of-type {\n        vertical-align: middle;\n    }\n\n    .dataframe tbody tr th {\n        vertical-align: top;\n    }\n\n    .dataframe thead th {\n        text-align: right;\n    }\n</style>\n<table border=\"1\" class=\"dataframe\">\n  <thead>\n    <tr style=\"text-align: right;\">\n      <th></th>\n      <th>index</th>\n      <th>img_id</th>\n      <th>avg_score</th>\n    </tr>\n  </thead>\n  <tbody>\n    <tr>\n      <th>221233</th>\n      <td>221234</td>\n      <td>701246</td>\n      <td>6.172</td>\n    </tr>\n    <tr>\n      <th>82612</th>\n      <td>82613</td>\n      <td>603675</td>\n      <td>6.016</td>\n    </tr>\n    <tr>\n      <th>121343</th>\n      <td>121344</td>\n      <td>248467</td>\n      <td>6.128</td>\n    </tr>\n    <tr>\n      <th>133982</th>\n      <td>133983</td>\n      <td>150464</td>\n      <td>4.679</td>\n    </tr>\n    <tr>\n      <th>253183</th>\n      <td>253184</td>\n      <td>905387</td>\n      <td>4.969</td>\n    </tr>\n    <tr>\n      <th>...</th>\n      <td>...</td>\n      <td>...</td>\n      <td>...</td>\n    </tr>\n    <tr>\n      <th>9056</th>\n      <td>9057</td>\n      <td>616741</td>\n      <td>5.914</td>\n    </tr>\n    <tr>\n      <th>211031</th>\n      <td>211032</td>\n      <td>3960</td>\n      <td>5.375</td>\n    </tr>\n    <tr>\n      <th>238133</th>\n      <td>238134</td>\n      <td>174698</td>\n      <td>4.401</td>\n    </tr>\n    <tr>\n      <th>95706</th>\n      <td>95707</td>\n      <td>886994</td>\n      <td>5.197</td>\n    </tr>\n    <tr>\n      <th>39495</th>\n      <td>39496</td>\n      <td>783474</td>\n      <td>5.387</td>\n    </tr>\n  </tbody>\n</table>\n<p>100 rows × 3 columns</p>\n</div>"
     },
     "execution_count": 6,
     "metadata": {},
     "output_type": "execute_result"
    }
   ],
   "source": [
    "# 随机选取一万张图片作为最终数据集\n",
    "ava_data = ava_data.sample(10000, random_state=20010125)  #为保证结果可以复现，这里我用的是我的生日，运行一次即可\n",
    "ava_data.head(100)"
   ],
   "metadata": {
    "collapsed": false
   }
  },
  {
   "cell_type": "code",
   "execution_count": 7,
   "outputs": [],
   "source": [
    "# 保存标签文件\n",
    "ava_data.to_csv(\"../data/ava.csv\", index=False)"
   ],
   "metadata": {
    "collapsed": false
   }
  },
  {
   "cell_type": "code",
   "execution_count": 8,
   "outputs": [],
   "source": [
    "# 复制图片到ava文件夹中\n",
    "from pathlib import Path\n",
    "from shutil import copy\n",
    "\n",
    "src_path = Path(\"C:\\Dataset\\AVA\\images\\images\")  # 这里需要改成你自己存放AVA数据集图片的位置\n",
    "dest_path = Path(\"../data/ava\")\n",
    "\n",
    "for index in ava_data[\"img_id\"]:\n",
    "    path = src_path / f\"{index}.jpg\"\n",
    "    if path.exists():\n",
    "        copy(path.absolute(), \"../data/ava\")"
   ],
   "metadata": {
    "collapsed": false
   }
  }
 ],
 "metadata": {
  "kernelspec": {
   "display_name": "Python 3",
   "language": "python",
   "name": "python3"
  },
  "language_info": {
   "codemirror_mode": {
    "name": "ipython",
    "version": 2
   },
   "file_extension": ".py",
   "mimetype": "text/x-python",
   "name": "python",
   "nbconvert_exporter": "python",
   "pygments_lexer": "ipython2",
   "version": "2.7.6"
  }
 },
 "nbformat": 4,
 "nbformat_minor": 0
}
