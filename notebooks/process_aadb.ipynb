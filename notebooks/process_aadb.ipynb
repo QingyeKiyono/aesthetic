{
 "cells": [
  {
   "cell_type": "code",
   "execution_count": 85,
   "metadata": {
    "collapsed": true
   },
   "outputs": [],
   "source": [
    "import pandas as pd"
   ]
  },
  {
   "cell_type": "code",
   "execution_count": 86,
   "outputs": [
    {
     "name": "stdout",
     "output_type": "stream",
     "text": [
      "(8458, 13)\n"
     ]
    },
    {
     "data": {
      "text/plain": "img_id                0\nscore                 0\ndof                   0\nbalancing_elements    0\ncolor_harmony         0\ncontent               0\nlight                 0\nmotion_blur           0\nobject                0\nrepetition            0\nsymmetry              0\nrule_of_thirds        0\nvivid_color           0\ndtype: int64"
     },
     "execution_count": 86,
     "metadata": {},
     "output_type": "execute_result"
    }
   ],
   "source": [
    "# 首先合并原AADB数据集训练集的标签\n",
    "aadb_train_score = pd.read_csv(\n",
    "    \"../data/raw_labels/aadb/imgListTrainRegression_score.txt\",\n",
    "    names=[\"img_id\", \"score\"], sep=\" \")\n",
    "aadb_train_dof = pd.read_csv(\n",
    "    \"../data/raw_labels/aadb/imgListTrainRegression_DoF.txt\",\n",
    "    names=[\"img_id\", \"dof\"], sep=\" \")\n",
    "aadb_train_balancing_elements = pd.read_csv(\n",
    "    \"../data/raw_labels/aadb/imgListTrainRegression_BalacingElements.txt\",\n",
    "    names=[\"img_id\", \"balancing_elements\"], sep=\" \")\n",
    "aadb_train_color_harmony = pd.read_csv(\n",
    "    \"../data/raw_labels/aadb/imgListTrainRegression_ColorHarmony.txt\",\n",
    "    names=[\"img_id\", \"color_harmony\"], sep=\" \")\n",
    "aadb_train_content = pd.read_csv(\n",
    "    \"../data/raw_labels/aadb/imgListTrainRegression_Content.txt\",\n",
    "    names=[\"img_id\", \"content\"], sep=\" \")\n",
    "aadb_train_light = pd.read_csv(\n",
    "    \"../data/raw_labels/aadb/imgListTrainRegression_Light.txt\",\n",
    "    names=[\"img_id\", \"light\"], sep=\" \")\n",
    "aadb_train_motion_blur = pd.read_csv(\n",
    "    \"../data/raw_labels/aadb/imgListTrainRegression_MotionBlur.txt\",\n",
    "    names=[\"img_id\", \"motion_blur\"], sep=\" \")\n",
    "aadb_train_object = pd.read_csv(\n",
    "    \"../data/raw_labels/aadb/imgListTrainRegression_Object.txt\",\n",
    "    names=[\"img_id\", \"object\"], sep=\" \")\n",
    "aadb_train_repetition = pd.read_csv(\n",
    "    \"../data/raw_labels/aadb/imgListTrainRegression_Repetition.txt\",\n",
    "    names=[\"img_id\", \"repetition\"], sep=\" \")\n",
    "aadb_train_rule_of_thirds = pd.read_csv(\n",
    "    \"../data/raw_labels/aadb/imgListTrainRegression_RuleOfThirds.txt\",\n",
    "    names=[\"img_id\", \"rule_of_thirds\"], sep=\" \")\n",
    "aadb_train_symmetry = pd.read_csv(\n",
    "    \"../data/raw_labels/aadb/imgListTrainRegression_Symmetry.txt\",\n",
    "    names=[\"img_id\", \"symmetry\"], sep=\" \")\n",
    "aadb_train_vivid_color = pd.read_csv(\n",
    "    \"../data/raw_labels/aadb/imgListTrainRegression_VividColor.txt\",\n",
    "    names=[\"img_id\", \"vivid_color\"], sep=\" \")\n",
    "\n",
    "aadb_train = pd.merge(aadb_train_score, aadb_train_dof, on=\"img_id\")\n",
    "aadb_train = pd.merge(aadb_train, aadb_train_balancing_elements, on=\"img_id\")\n",
    "aadb_train = pd.merge(aadb_train, aadb_train_color_harmony, on=\"img_id\")\n",
    "aadb_train = pd.merge(aadb_train, aadb_train_content, on=\"img_id\")\n",
    "aadb_train = pd.merge(aadb_train, aadb_train_light, on=\"img_id\")\n",
    "aadb_train = pd.merge(aadb_train, aadb_train_motion_blur, on=\"img_id\")\n",
    "aadb_train = pd.merge(aadb_train, aadb_train_object, on=\"img_id\")\n",
    "aadb_train = pd.merge(aadb_train, aadb_train_repetition, on=\"img_id\")\n",
    "aadb_train = pd.merge(aadb_train, aadb_train_symmetry, on=\"img_id\")\n",
    "aadb_train = pd.merge(aadb_train, aadb_train_rule_of_thirds, on=\"img_id\")\n",
    "aadb_train = pd.merge(aadb_train, aadb_train_vivid_color, on=\"img_id\")\n",
    "\n",
    "print(aadb_train.shape)\n",
    "aadb_train.isna().sum()"
   ],
   "metadata": {
    "collapsed": false
   }
  },
  {
   "cell_type": "code",
   "execution_count": 87,
   "outputs": [
    {
     "name": "stdout",
     "output_type": "stream",
     "text": [
      "(500, 13)\n"
     ]
    },
    {
     "data": {
      "text/plain": "img_id                0\nscore                 0\ndof                   0\nbalancing_elements    0\ncolor_harmony         0\ncontent               0\nlight                 0\nmotion_blur           0\nobject                0\nrepetition            0\nsymmetry              0\nrule_of_thirds        0\nvivid_color           0\ndtype: int64"
     },
     "execution_count": 87,
     "metadata": {},
     "output_type": "execute_result"
    }
   ],
   "source": [
    "# 然后合并验证集的数据\n",
    "aadb_validation_score = pd.read_csv(\n",
    "    \"../data/raw_labels/aadb/imgListValidationRegression_score.txt\",\n",
    "    names=[\"img_id\", \"score\"], sep=\" \")\n",
    "aadb_validation_dof = pd.read_csv(\n",
    "    \"../data/raw_labels/aadb/imgListValidationRegression_DoF.txt\",\n",
    "    names=[\"img_id\", \"dof\"], sep=\" \")\n",
    "aadb_validation_balancing_elements = pd.read_csv(\n",
    "    \"../data/raw_labels/aadb/imgListValidationRegression_BalacingElements.txt\",\n",
    "    names=[\"img_id\", \"balancing_elements\"], sep=\" \")\n",
    "aadb_validation_color_harmony = pd.read_csv(\n",
    "    \"../data/raw_labels/aadb/imgListValidationRegression_ColorHarmony.txt\",\n",
    "    names=[\"img_id\", \"color_harmony\"], sep=\" \")\n",
    "aadb_validation_content = pd.read_csv(\n",
    "    \"../data/raw_labels/aadb/imgListValidationRegression_Content.txt\",\n",
    "    names=[\"img_id\", \"content\"], sep=\" \")\n",
    "aadb_validation_light = pd.read_csv(\n",
    "    \"../data/raw_labels/aadb/imgListValidationRegression_Light.txt\",\n",
    "    names=[\"img_id\", \"light\"], sep=\" \")\n",
    "aadb_validation_motion_blur = pd.read_csv(\n",
    "    \"../data/raw_labels/aadb/imgListValidationRegression_MotionBlur.txt\",\n",
    "    names=[\"img_id\", \"motion_blur\"], sep=\" \")\n",
    "aadb_validation_object = pd.read_csv(\n",
    "    \"../data/raw_labels/aadb/imgListValidationRegression_Object.txt\",\n",
    "    names=[\"img_id\", \"object\"], sep=\" \")\n",
    "aadb_validation_repetition = pd.read_csv(\n",
    "    \"../data/raw_labels/aadb/imgListValidationRegression_Repetition.txt\",\n",
    "    names=[\"img_id\", \"repetition\"], sep=\" \")\n",
    "aadb_validation_rule_of_thirds = pd.read_csv(\n",
    "    \"../data/raw_labels/aadb/imgListValidationRegression_RuleOfThirds.txt\",\n",
    "    names=[\"img_id\", \"rule_of_thirds\"], sep=\" \")\n",
    "aadb_validation_symmetry = pd.read_csv(\n",
    "    \"../data/raw_labels/aadb/imgListValidationRegression_Symmetry.txt\",\n",
    "    names=[\"img_id\", \"symmetry\"], sep=\" \")\n",
    "aadb_validation_vivid_color = pd.read_csv(\n",
    "    \"../data/raw_labels/aadb/imgListValidationRegression_VividColor.txt\",\n",
    "    names=[\"img_id\", \"vivid_color\"], sep=\" \")\n",
    "\n",
    "aadb_validation = pd.merge(aadb_validation_score, aadb_validation_dof, on=\"img_id\")\n",
    "aadb_validation = pd.merge(aadb_validation, aadb_validation_balancing_elements, on=\"img_id\")\n",
    "aadb_validation = pd.merge(aadb_validation, aadb_validation_color_harmony, on=\"img_id\")\n",
    "aadb_validation = pd.merge(aadb_validation, aadb_validation_content, on=\"img_id\")\n",
    "aadb_validation = pd.merge(aadb_validation, aadb_validation_light, on=\"img_id\")\n",
    "aadb_validation = pd.merge(aadb_validation, aadb_validation_motion_blur, on=\"img_id\")\n",
    "aadb_validation = pd.merge(aadb_validation, aadb_validation_object, on=\"img_id\")\n",
    "aadb_validation = pd.merge(aadb_validation, aadb_validation_repetition, on=\"img_id\")\n",
    "aadb_validation = pd.merge(aadb_validation, aadb_validation_symmetry, on=\"img_id\")\n",
    "aadb_validation = pd.merge(aadb_validation, aadb_validation_rule_of_thirds, on=\"img_id\")\n",
    "aadb_validation = pd.merge(aadb_validation, aadb_validation_vivid_color, on=\"img_id\")\n",
    "\n",
    "print(aadb_validation.shape)\n",
    "aadb_validation.isna().sum()"
   ],
   "metadata": {
    "collapsed": false
   }
  },
  {
   "cell_type": "code",
   "execution_count": 88,
   "outputs": [
    {
     "name": "stdout",
     "output_type": "stream",
     "text": [
      "(1000, 13)\n"
     ]
    },
    {
     "data": {
      "text/plain": "img_id                0\nscore                 0\ndof                   0\nbalancing_elements    0\ncolor_harmony         0\ncontent               0\nlight                 0\nmotion_blur           0\nobject                0\nrepetition            0\nsymmetry              0\nrule_of_thirds        0\nvivid_color           0\ndtype: int64"
     },
     "execution_count": 88,
     "metadata": {},
     "output_type": "execute_result"
    }
   ],
   "source": [
    "# 最后合并测试集的标签\n",
    "aadb_test_score = pd.read_csv(\n",
    "    \"../data/raw_labels/aadb/imgListTestRegression_score.txt\",\n",
    "    names=[\"img_id\", \"score\"], sep=\" \")\n",
    "aadb_test_dof = pd.read_csv(\n",
    "    \"../data/raw_labels/aadb/imgListTestRegression_DoF.txt\",\n",
    "    names=[\"img_id\", \"dof\"], sep=\" \")\n",
    "aadb_test_balancing_elements = pd.read_csv(\n",
    "    \"../data/raw_labels/aadb/imgListTestRegression_BalacingElements.txt\",\n",
    "    names=[\"img_id\", \"balancing_elements\"], sep=\" \")\n",
    "aadb_test_color_harmony = pd.read_csv(\n",
    "    \"../data/raw_labels/aadb/imgListTestRegression_ColorHarmony.txt\",\n",
    "    names=[\"img_id\", \"color_harmony\"], sep=\" \")\n",
    "aadb_test_content = pd.read_csv(\n",
    "    \"../data/raw_labels/aadb/imgListTestRegression_Content.txt\",\n",
    "    names=[\"img_id\", \"content\"], sep=\" \")\n",
    "aadb_test_light = pd.read_csv(\n",
    "    \"../data/raw_labels/aadb/imgListTestRegression_Light.txt\",\n",
    "    names=[\"img_id\", \"light\"], sep=\" \")\n",
    "aadb_test_motion_blur = pd.read_csv(\n",
    "    \"../data/raw_labels/aadb/imgListTestRegression_MotionBlur.txt\",\n",
    "    names=[\"img_id\", \"motion_blur\"], sep=\" \")\n",
    "aadb_test_object = pd.read_csv(\n",
    "    \"../data/raw_labels/aadb/imgListTestRegression_Object.txt\",\n",
    "    names=[\"img_id\", \"object\"], sep=\" \")\n",
    "aadb_test_repetition = pd.read_csv(\n",
    "    \"../data/raw_labels/aadb/imgListTestRegression_Repetition.txt\",\n",
    "    names=[\"img_id\", \"repetition\"], sep=\" \")\n",
    "aadb_test_rule_of_thirds = pd.read_csv(\n",
    "    \"../data/raw_labels/aadb/imgListTestRegression_RuleOfThirds.txt\",\n",
    "    names=[\"img_id\", \"rule_of_thirds\"], sep=\" \")\n",
    "aadb_test_symmetry = pd.read_csv(\n",
    "    \"../data/raw_labels/aadb/imgListTestRegression_Symmetry.txt\",\n",
    "    names=[\"img_id\", \"symmetry\"], sep=\" \")\n",
    "aadb_test_vivid_color = pd.read_csv(\n",
    "    \"../data/raw_labels/aadb/imgListTestRegression_VividColor.txt\",\n",
    "    names=[\"img_id\", \"vivid_color\"], sep=\" \")\n",
    "\n",
    "aadb_test = pd.merge(aadb_test_score, aadb_test_dof, on=\"img_id\")\n",
    "aadb_test = pd.merge(aadb_test, aadb_test_balancing_elements, on=\"img_id\")\n",
    "aadb_test = pd.merge(aadb_test, aadb_test_color_harmony, on=\"img_id\")\n",
    "aadb_test = pd.merge(aadb_test, aadb_test_content, on=\"img_id\")\n",
    "aadb_test = pd.merge(aadb_test, aadb_test_light, on=\"img_id\")\n",
    "aadb_test = pd.merge(aadb_test, aadb_test_motion_blur, on=\"img_id\")\n",
    "aadb_test = pd.merge(aadb_test, aadb_test_object, on=\"img_id\")\n",
    "aadb_test = pd.merge(aadb_test, aadb_test_repetition, on=\"img_id\")\n",
    "aadb_test = pd.merge(aadb_test, aadb_test_symmetry, on=\"img_id\")\n",
    "aadb_test = pd.merge(aadb_test, aadb_test_rule_of_thirds, on=\"img_id\")\n",
    "aadb_test = pd.merge(aadb_test, aadb_test_vivid_color, on=\"img_id\")\n",
    "\n",
    "print(aadb_test.shape)\n",
    "aadb_test.isna().sum()"
   ],
   "metadata": {
    "collapsed": false
   }
  },
  {
   "cell_type": "code",
   "execution_count": 89,
   "outputs": [
    {
     "data": {
      "text/plain": "                                    img_id  score  dof  balancing_elements  \\\n0   farm1_333_19438364933_087c8abc60_b.jpg  0.300 -0.4                -0.2   \n1   farm1_452_19898743300_201156d984_b.jpg  0.700 -0.2                 0.2   \n2   farm1_281_20247100976_c8141d3653_b.jpg  0.400 -0.2                -0.2   \n3   farm1_448_19709457333_be4c6bb5eb_b.jpg  0.600 -0.2                 0.0   \n4   farm1_393_20179744375_c119001350_b.jpg  0.450  0.0                -0.2   \n5   farm1_275_19803259169_c8b4c4c425_b.jpg  0.775  0.4                 0.1   \n6   farm1_322_19703546844_24870f2139_b.jpg  0.500 -0.2                 0.0   \n7   farm1_465_20205184465_6258b8184e_b.jpg  0.200  0.0                -0.2   \n8   farm1_365_20165810645_4f027d6d58_b.jpg  0.200 -0.2                 0.0   \n9  farm4_3736_19541030833_e68fa6b476_b.jpg  0.650 -0.2                 0.0   \n\n   color_harmony  content  light  motion_blur  object  repetition  symmetry  \\\n0            0.2     -0.2    0.0          0.0    -0.4         0.0       0.0   \n1            0.4      0.6    0.2          0.0     0.6         0.0       0.0   \n2            0.0      0.4   -0.4          0.0    -0.6         0.0       0.0   \n3            0.6     -0.6    0.0          0.0     0.2         0.2       0.0   \n4            0.6      0.4   -0.4          0.0     0.2         0.0       0.0   \n5            0.2      0.5    0.0          0.0     0.9         0.0       0.0   \n6            0.4      0.0   -0.2          0.0     0.6         0.0       0.4   \n7           -0.2     -0.8   -0.2         -0.2    -1.0         0.0       0.0   \n8            0.0     -0.8   -0.4          0.0    -1.0         0.0       0.0   \n9            0.4      0.4    0.4          0.0    -0.4         0.2       0.0   \n\n   rule_of_thirds  vivid_color  \n0            -0.2          0.0  \n1             0.8          0.4  \n2            -0.4          0.6  \n3             0.0          0.4  \n4             0.0          0.2  \n5             0.3          0.0  \n6             0.0          0.0  \n7            -0.6         -0.4  \n8             0.0         -0.8  \n9            -0.2          0.4  ",
      "text/html": "<div>\n<style scoped>\n    .dataframe tbody tr th:only-of-type {\n        vertical-align: middle;\n    }\n\n    .dataframe tbody tr th {\n        vertical-align: top;\n    }\n\n    .dataframe thead th {\n        text-align: right;\n    }\n</style>\n<table border=\"1\" class=\"dataframe\">\n  <thead>\n    <tr style=\"text-align: right;\">\n      <th></th>\n      <th>img_id</th>\n      <th>score</th>\n      <th>dof</th>\n      <th>balancing_elements</th>\n      <th>color_harmony</th>\n      <th>content</th>\n      <th>light</th>\n      <th>motion_blur</th>\n      <th>object</th>\n      <th>repetition</th>\n      <th>symmetry</th>\n      <th>rule_of_thirds</th>\n      <th>vivid_color</th>\n    </tr>\n  </thead>\n  <tbody>\n    <tr>\n      <th>0</th>\n      <td>farm1_333_19438364933_087c8abc60_b.jpg</td>\n      <td>0.300</td>\n      <td>-0.4</td>\n      <td>-0.2</td>\n      <td>0.2</td>\n      <td>-0.2</td>\n      <td>0.0</td>\n      <td>0.0</td>\n      <td>-0.4</td>\n      <td>0.0</td>\n      <td>0.0</td>\n      <td>-0.2</td>\n      <td>0.0</td>\n    </tr>\n    <tr>\n      <th>1</th>\n      <td>farm1_452_19898743300_201156d984_b.jpg</td>\n      <td>0.700</td>\n      <td>-0.2</td>\n      <td>0.2</td>\n      <td>0.4</td>\n      <td>0.6</td>\n      <td>0.2</td>\n      <td>0.0</td>\n      <td>0.6</td>\n      <td>0.0</td>\n      <td>0.0</td>\n      <td>0.8</td>\n      <td>0.4</td>\n    </tr>\n    <tr>\n      <th>2</th>\n      <td>farm1_281_20247100976_c8141d3653_b.jpg</td>\n      <td>0.400</td>\n      <td>-0.2</td>\n      <td>-0.2</td>\n      <td>0.0</td>\n      <td>0.4</td>\n      <td>-0.4</td>\n      <td>0.0</td>\n      <td>-0.6</td>\n      <td>0.0</td>\n      <td>0.0</td>\n      <td>-0.4</td>\n      <td>0.6</td>\n    </tr>\n    <tr>\n      <th>3</th>\n      <td>farm1_448_19709457333_be4c6bb5eb_b.jpg</td>\n      <td>0.600</td>\n      <td>-0.2</td>\n      <td>0.0</td>\n      <td>0.6</td>\n      <td>-0.6</td>\n      <td>0.0</td>\n      <td>0.0</td>\n      <td>0.2</td>\n      <td>0.2</td>\n      <td>0.0</td>\n      <td>0.0</td>\n      <td>0.4</td>\n    </tr>\n    <tr>\n      <th>4</th>\n      <td>farm1_393_20179744375_c119001350_b.jpg</td>\n      <td>0.450</td>\n      <td>0.0</td>\n      <td>-0.2</td>\n      <td>0.6</td>\n      <td>0.4</td>\n      <td>-0.4</td>\n      <td>0.0</td>\n      <td>0.2</td>\n      <td>0.0</td>\n      <td>0.0</td>\n      <td>0.0</td>\n      <td>0.2</td>\n    </tr>\n    <tr>\n      <th>5</th>\n      <td>farm1_275_19803259169_c8b4c4c425_b.jpg</td>\n      <td>0.775</td>\n      <td>0.4</td>\n      <td>0.1</td>\n      <td>0.2</td>\n      <td>0.5</td>\n      <td>0.0</td>\n      <td>0.0</td>\n      <td>0.9</td>\n      <td>0.0</td>\n      <td>0.0</td>\n      <td>0.3</td>\n      <td>0.0</td>\n    </tr>\n    <tr>\n      <th>6</th>\n      <td>farm1_322_19703546844_24870f2139_b.jpg</td>\n      <td>0.500</td>\n      <td>-0.2</td>\n      <td>0.0</td>\n      <td>0.4</td>\n      <td>0.0</td>\n      <td>-0.2</td>\n      <td>0.0</td>\n      <td>0.6</td>\n      <td>0.0</td>\n      <td>0.4</td>\n      <td>0.0</td>\n      <td>0.0</td>\n    </tr>\n    <tr>\n      <th>7</th>\n      <td>farm1_465_20205184465_6258b8184e_b.jpg</td>\n      <td>0.200</td>\n      <td>0.0</td>\n      <td>-0.2</td>\n      <td>-0.2</td>\n      <td>-0.8</td>\n      <td>-0.2</td>\n      <td>-0.2</td>\n      <td>-1.0</td>\n      <td>0.0</td>\n      <td>0.0</td>\n      <td>-0.6</td>\n      <td>-0.4</td>\n    </tr>\n    <tr>\n      <th>8</th>\n      <td>farm1_365_20165810645_4f027d6d58_b.jpg</td>\n      <td>0.200</td>\n      <td>-0.2</td>\n      <td>0.0</td>\n      <td>0.0</td>\n      <td>-0.8</td>\n      <td>-0.4</td>\n      <td>0.0</td>\n      <td>-1.0</td>\n      <td>0.0</td>\n      <td>0.0</td>\n      <td>0.0</td>\n      <td>-0.8</td>\n    </tr>\n    <tr>\n      <th>9</th>\n      <td>farm4_3736_19541030833_e68fa6b476_b.jpg</td>\n      <td>0.650</td>\n      <td>-0.2</td>\n      <td>0.0</td>\n      <td>0.4</td>\n      <td>0.4</td>\n      <td>0.4</td>\n      <td>0.0</td>\n      <td>-0.4</td>\n      <td>0.2</td>\n      <td>0.0</td>\n      <td>-0.2</td>\n      <td>0.4</td>\n    </tr>\n  </tbody>\n</table>\n</div>"
     },
     "execution_count": 89,
     "metadata": {},
     "output_type": "execute_result"
    }
   ],
   "source": [
    "# 将三个子集的数据合并在一起\n",
    "aadb_data = pd.concat([aadb_train, aadb_validation, aadb_test], axis=0)\n",
    "\n",
    "aadb_data.head(10)"
   ],
   "metadata": {
    "collapsed": false
   }
  },
  {
   "cell_type": "code",
   "execution_count": 90,
   "outputs": [
    {
     "data": {
      "text/plain": "                                    img_id  dof  balancing_elements  \\\n0   farm1_333_19438364933_087c8abc60_b.jpg -0.4                -0.2   \n1   farm1_452_19898743300_201156d984_b.jpg -0.2                 0.2   \n2   farm1_281_20247100976_c8141d3653_b.jpg -0.2                -0.2   \n3   farm1_448_19709457333_be4c6bb5eb_b.jpg -0.2                 0.0   \n4   farm1_393_20179744375_c119001350_b.jpg  0.0                -0.2   \n5   farm1_275_19803259169_c8b4c4c425_b.jpg  0.4                 0.1   \n6   farm1_322_19703546844_24870f2139_b.jpg -0.2                 0.0   \n7   farm1_465_20205184465_6258b8184e_b.jpg  0.0                -0.2   \n8   farm1_365_20165810645_4f027d6d58_b.jpg -0.2                 0.0   \n9  farm4_3736_19541030833_e68fa6b476_b.jpg -0.2                 0.0   \n\n   color_harmony  content  light  motion_blur  object  repetition  symmetry  \\\n0            0.2     -0.2    0.0          0.0    -0.4         0.0       0.0   \n1            0.4      0.6    0.2          0.0     0.6         0.0       0.0   \n2            0.0      0.4   -0.4          0.0    -0.6         0.0       0.0   \n3            0.6     -0.6    0.0          0.0     0.2         0.2       0.0   \n4            0.6      0.4   -0.4          0.0     0.2         0.0       0.0   \n5            0.2      0.5    0.0          0.0     0.9         0.0       0.0   \n6            0.4      0.0   -0.2          0.0     0.6         0.0       0.4   \n7           -0.2     -0.8   -0.2         -0.2    -1.0         0.0       0.0   \n8            0.0     -0.8   -0.4          0.0    -1.0         0.0       0.0   \n9            0.4      0.4    0.4          0.0    -0.4         0.2       0.0   \n\n   rule_of_thirds  vivid_color  \n0            -0.2          0.0  \n1             0.8          0.4  \n2            -0.4          0.6  \n3             0.0          0.4  \n4             0.0          0.2  \n5             0.3          0.0  \n6             0.0          0.0  \n7            -0.6         -0.4  \n8             0.0         -0.8  \n9            -0.2          0.4  ",
      "text/html": "<div>\n<style scoped>\n    .dataframe tbody tr th:only-of-type {\n        vertical-align: middle;\n    }\n\n    .dataframe tbody tr th {\n        vertical-align: top;\n    }\n\n    .dataframe thead th {\n        text-align: right;\n    }\n</style>\n<table border=\"1\" class=\"dataframe\">\n  <thead>\n    <tr style=\"text-align: right;\">\n      <th></th>\n      <th>img_id</th>\n      <th>dof</th>\n      <th>balancing_elements</th>\n      <th>color_harmony</th>\n      <th>content</th>\n      <th>light</th>\n      <th>motion_blur</th>\n      <th>object</th>\n      <th>repetition</th>\n      <th>symmetry</th>\n      <th>rule_of_thirds</th>\n      <th>vivid_color</th>\n    </tr>\n  </thead>\n  <tbody>\n    <tr>\n      <th>0</th>\n      <td>farm1_333_19438364933_087c8abc60_b.jpg</td>\n      <td>-0.4</td>\n      <td>-0.2</td>\n      <td>0.2</td>\n      <td>-0.2</td>\n      <td>0.0</td>\n      <td>0.0</td>\n      <td>-0.4</td>\n      <td>0.0</td>\n      <td>0.0</td>\n      <td>-0.2</td>\n      <td>0.0</td>\n    </tr>\n    <tr>\n      <th>1</th>\n      <td>farm1_452_19898743300_201156d984_b.jpg</td>\n      <td>-0.2</td>\n      <td>0.2</td>\n      <td>0.4</td>\n      <td>0.6</td>\n      <td>0.2</td>\n      <td>0.0</td>\n      <td>0.6</td>\n      <td>0.0</td>\n      <td>0.0</td>\n      <td>0.8</td>\n      <td>0.4</td>\n    </tr>\n    <tr>\n      <th>2</th>\n      <td>farm1_281_20247100976_c8141d3653_b.jpg</td>\n      <td>-0.2</td>\n      <td>-0.2</td>\n      <td>0.0</td>\n      <td>0.4</td>\n      <td>-0.4</td>\n      <td>0.0</td>\n      <td>-0.6</td>\n      <td>0.0</td>\n      <td>0.0</td>\n      <td>-0.4</td>\n      <td>0.6</td>\n    </tr>\n    <tr>\n      <th>3</th>\n      <td>farm1_448_19709457333_be4c6bb5eb_b.jpg</td>\n      <td>-0.2</td>\n      <td>0.0</td>\n      <td>0.6</td>\n      <td>-0.6</td>\n      <td>0.0</td>\n      <td>0.0</td>\n      <td>0.2</td>\n      <td>0.2</td>\n      <td>0.0</td>\n      <td>0.0</td>\n      <td>0.4</td>\n    </tr>\n    <tr>\n      <th>4</th>\n      <td>farm1_393_20179744375_c119001350_b.jpg</td>\n      <td>0.0</td>\n      <td>-0.2</td>\n      <td>0.6</td>\n      <td>0.4</td>\n      <td>-0.4</td>\n      <td>0.0</td>\n      <td>0.2</td>\n      <td>0.0</td>\n      <td>0.0</td>\n      <td>0.0</td>\n      <td>0.2</td>\n    </tr>\n    <tr>\n      <th>5</th>\n      <td>farm1_275_19803259169_c8b4c4c425_b.jpg</td>\n      <td>0.4</td>\n      <td>0.1</td>\n      <td>0.2</td>\n      <td>0.5</td>\n      <td>0.0</td>\n      <td>0.0</td>\n      <td>0.9</td>\n      <td>0.0</td>\n      <td>0.0</td>\n      <td>0.3</td>\n      <td>0.0</td>\n    </tr>\n    <tr>\n      <th>6</th>\n      <td>farm1_322_19703546844_24870f2139_b.jpg</td>\n      <td>-0.2</td>\n      <td>0.0</td>\n      <td>0.4</td>\n      <td>0.0</td>\n      <td>-0.2</td>\n      <td>0.0</td>\n      <td>0.6</td>\n      <td>0.0</td>\n      <td>0.4</td>\n      <td>0.0</td>\n      <td>0.0</td>\n    </tr>\n    <tr>\n      <th>7</th>\n      <td>farm1_465_20205184465_6258b8184e_b.jpg</td>\n      <td>0.0</td>\n      <td>-0.2</td>\n      <td>-0.2</td>\n      <td>-0.8</td>\n      <td>-0.2</td>\n      <td>-0.2</td>\n      <td>-1.0</td>\n      <td>0.0</td>\n      <td>0.0</td>\n      <td>-0.6</td>\n      <td>-0.4</td>\n    </tr>\n    <tr>\n      <th>8</th>\n      <td>farm1_365_20165810645_4f027d6d58_b.jpg</td>\n      <td>-0.2</td>\n      <td>0.0</td>\n      <td>0.0</td>\n      <td>-0.8</td>\n      <td>-0.4</td>\n      <td>0.0</td>\n      <td>-1.0</td>\n      <td>0.0</td>\n      <td>0.0</td>\n      <td>0.0</td>\n      <td>-0.8</td>\n    </tr>\n    <tr>\n      <th>9</th>\n      <td>farm4_3736_19541030833_e68fa6b476_b.jpg</td>\n      <td>-0.2</td>\n      <td>0.0</td>\n      <td>0.4</td>\n      <td>0.4</td>\n      <td>0.4</td>\n      <td>0.0</td>\n      <td>-0.4</td>\n      <td>0.2</td>\n      <td>0.0</td>\n      <td>-0.2</td>\n      <td>0.4</td>\n    </tr>\n  </tbody>\n</table>\n</div>"
     },
     "execution_count": 90,
     "metadata": {},
     "output_type": "execute_result"
    }
   ],
   "source": [
    "# 删除score列\n",
    "aadb_data.drop(labels=\"score\", inplace=True, axis=1)\n",
    "aadb_data.head(10)"
   ],
   "metadata": {
    "collapsed": false
   }
  },
  {
   "cell_type": "code",
   "execution_count": 91,
   "outputs": [
    {
     "data": {
      "text/plain": "                                    img_id  dof  balancing_elements  \\\n0   farm1_333_19438364933_087c8abc60_b.jpg  0.0                 0.0   \n1   farm1_452_19898743300_201156d984_b.jpg  0.0                 1.0   \n2   farm1_281_20247100976_c8141d3653_b.jpg  0.0                 0.0   \n3   farm1_448_19709457333_be4c6bb5eb_b.jpg  0.0                 0.0   \n4   farm1_393_20179744375_c119001350_b.jpg  0.0                 0.0   \n5   farm1_275_19803259169_c8b4c4c425_b.jpg  1.0                 1.0   \n6   farm1_322_19703546844_24870f2139_b.jpg  0.0                 0.0   \n7   farm1_465_20205184465_6258b8184e_b.jpg  0.0                 0.0   \n8   farm1_365_20165810645_4f027d6d58_b.jpg  0.0                 0.0   \n9  farm4_3736_19541030833_e68fa6b476_b.jpg  0.0                 0.0   \n\n   color_harmony  content  light  motion_blur  object  repetition  symmetry  \\\n0            0.0      0.0    0.0          1.0     0.0         0.0       0.0   \n1            1.0      1.0    1.0          1.0     1.0         0.0       0.0   \n2            0.0      1.0    0.0          1.0     0.0         0.0       0.0   \n3            1.0      0.0    0.0          1.0     1.0         1.0       0.0   \n4            1.0      1.0    0.0          1.0     1.0         0.0       0.0   \n5            0.0      1.0    0.0          1.0     1.0         0.0       0.0   \n6            1.0      0.0    0.0          1.0     1.0         0.0       1.0   \n7            0.0      0.0    0.0          0.0     0.0         0.0       0.0   \n8            0.0      0.0    0.0          1.0     0.0         0.0       0.0   \n9            1.0      1.0    1.0          1.0     0.0         1.0       0.0   \n\n   rule_of_thirds  vivid_color  \n0             0.0          1.0  \n1             1.0          1.0  \n2             0.0          1.0  \n3             1.0          1.0  \n4             1.0          1.0  \n5             1.0          1.0  \n6             1.0          1.0  \n7             0.0          0.0  \n8             1.0          0.0  \n9             0.0          1.0  ",
      "text/html": "<div>\n<style scoped>\n    .dataframe tbody tr th:only-of-type {\n        vertical-align: middle;\n    }\n\n    .dataframe tbody tr th {\n        vertical-align: top;\n    }\n\n    .dataframe thead th {\n        text-align: right;\n    }\n</style>\n<table border=\"1\" class=\"dataframe\">\n  <thead>\n    <tr style=\"text-align: right;\">\n      <th></th>\n      <th>img_id</th>\n      <th>dof</th>\n      <th>balancing_elements</th>\n      <th>color_harmony</th>\n      <th>content</th>\n      <th>light</th>\n      <th>motion_blur</th>\n      <th>object</th>\n      <th>repetition</th>\n      <th>symmetry</th>\n      <th>rule_of_thirds</th>\n      <th>vivid_color</th>\n    </tr>\n  </thead>\n  <tbody>\n    <tr>\n      <th>0</th>\n      <td>farm1_333_19438364933_087c8abc60_b.jpg</td>\n      <td>0.0</td>\n      <td>0.0</td>\n      <td>0.0</td>\n      <td>0.0</td>\n      <td>0.0</td>\n      <td>1.0</td>\n      <td>0.0</td>\n      <td>0.0</td>\n      <td>0.0</td>\n      <td>0.0</td>\n      <td>1.0</td>\n    </tr>\n    <tr>\n      <th>1</th>\n      <td>farm1_452_19898743300_201156d984_b.jpg</td>\n      <td>0.0</td>\n      <td>1.0</td>\n      <td>1.0</td>\n      <td>1.0</td>\n      <td>1.0</td>\n      <td>1.0</td>\n      <td>1.0</td>\n      <td>0.0</td>\n      <td>0.0</td>\n      <td>1.0</td>\n      <td>1.0</td>\n    </tr>\n    <tr>\n      <th>2</th>\n      <td>farm1_281_20247100976_c8141d3653_b.jpg</td>\n      <td>0.0</td>\n      <td>0.0</td>\n      <td>0.0</td>\n      <td>1.0</td>\n      <td>0.0</td>\n      <td>1.0</td>\n      <td>0.0</td>\n      <td>0.0</td>\n      <td>0.0</td>\n      <td>0.0</td>\n      <td>1.0</td>\n    </tr>\n    <tr>\n      <th>3</th>\n      <td>farm1_448_19709457333_be4c6bb5eb_b.jpg</td>\n      <td>0.0</td>\n      <td>0.0</td>\n      <td>1.0</td>\n      <td>0.0</td>\n      <td>0.0</td>\n      <td>1.0</td>\n      <td>1.0</td>\n      <td>1.0</td>\n      <td>0.0</td>\n      <td>1.0</td>\n      <td>1.0</td>\n    </tr>\n    <tr>\n      <th>4</th>\n      <td>farm1_393_20179744375_c119001350_b.jpg</td>\n      <td>0.0</td>\n      <td>0.0</td>\n      <td>1.0</td>\n      <td>1.0</td>\n      <td>0.0</td>\n      <td>1.0</td>\n      <td>1.0</td>\n      <td>0.0</td>\n      <td>0.0</td>\n      <td>1.0</td>\n      <td>1.0</td>\n    </tr>\n    <tr>\n      <th>5</th>\n      <td>farm1_275_19803259169_c8b4c4c425_b.jpg</td>\n      <td>1.0</td>\n      <td>1.0</td>\n      <td>0.0</td>\n      <td>1.0</td>\n      <td>0.0</td>\n      <td>1.0</td>\n      <td>1.0</td>\n      <td>0.0</td>\n      <td>0.0</td>\n      <td>1.0</td>\n      <td>1.0</td>\n    </tr>\n    <tr>\n      <th>6</th>\n      <td>farm1_322_19703546844_24870f2139_b.jpg</td>\n      <td>0.0</td>\n      <td>0.0</td>\n      <td>1.0</td>\n      <td>0.0</td>\n      <td>0.0</td>\n      <td>1.0</td>\n      <td>1.0</td>\n      <td>0.0</td>\n      <td>1.0</td>\n      <td>1.0</td>\n      <td>1.0</td>\n    </tr>\n    <tr>\n      <th>7</th>\n      <td>farm1_465_20205184465_6258b8184e_b.jpg</td>\n      <td>0.0</td>\n      <td>0.0</td>\n      <td>0.0</td>\n      <td>0.0</td>\n      <td>0.0</td>\n      <td>0.0</td>\n      <td>0.0</td>\n      <td>0.0</td>\n      <td>0.0</td>\n      <td>0.0</td>\n      <td>0.0</td>\n    </tr>\n    <tr>\n      <th>8</th>\n      <td>farm1_365_20165810645_4f027d6d58_b.jpg</td>\n      <td>0.0</td>\n      <td>0.0</td>\n      <td>0.0</td>\n      <td>0.0</td>\n      <td>0.0</td>\n      <td>1.0</td>\n      <td>0.0</td>\n      <td>0.0</td>\n      <td>0.0</td>\n      <td>1.0</td>\n      <td>0.0</td>\n    </tr>\n    <tr>\n      <th>9</th>\n      <td>farm4_3736_19541030833_e68fa6b476_b.jpg</td>\n      <td>0.0</td>\n      <td>0.0</td>\n      <td>1.0</td>\n      <td>1.0</td>\n      <td>1.0</td>\n      <td>1.0</td>\n      <td>0.0</td>\n      <td>1.0</td>\n      <td>0.0</td>\n      <td>0.0</td>\n      <td>1.0</td>\n    </tr>\n  </tbody>\n</table>\n</div>"
     },
     "execution_count": 91,
     "metadata": {},
     "output_type": "execute_result"
    }
   ],
   "source": [
    "# 将其中各个类别的标签进行二值化处理，方便系统输出\n",
    "from sklearn.preprocessing import Binarizer\n",
    "\n",
    "bin_dof = Binarizer(threshold=aadb_data[\"dof\"].mean())\n",
    "bin_balancing_elements = Binarizer(threshold=aadb_data[\"balancing_elements\"].mean())\n",
    "bin_color_harmony = Binarizer(threshold=aadb_data[\"color_harmony\"].mean())\n",
    "bin_content = Binarizer(threshold=aadb_data[\"content\"].mean())\n",
    "bin_light = Binarizer(threshold=aadb_data[\"light\"].mean())\n",
    "bin_motion_blur = Binarizer(threshold=aadb_data[\"motion_blur\"].mean())\n",
    "bin_object = Binarizer(threshold=aadb_data[\"object\"].mean())\n",
    "bin_repetition = Binarizer(threshold=aadb_data[\"repetition\"].mean())\n",
    "bin_symmetry = Binarizer(threshold=aadb_data[\"symmetry\"].mean())\n",
    "bin_rule_of_thirds = Binarizer(threshold=aadb_data[\"rule_of_thirds\"].mean())\n",
    "bin_vivid_color = Binarizer(threshold=aadb_data[\"vivid_color\"].mean())\n",
    "\n",
    "aadb_data[\"dof\"] = bin_dof.fit_transform(aadb_data[[\"dof\"]])\n",
    "aadb_data[\"balancing_elements\"] = bin_balancing_elements.fit_transform(aadb_data[[\"balancing_elements\"]])\n",
    "aadb_data[\"color_harmony\"] = bin_color_harmony.fit_transform(aadb_data[[\"color_harmony\"]])\n",
    "aadb_data[\"content\"] = bin_content.fit_transform(aadb_data[[\"content\"]])\n",
    "aadb_data[\"light\"] = bin_light.fit_transform(aadb_data[[\"light\"]])\n",
    "aadb_data[\"motion_blur\"] = bin_motion_blur.fit_transform(aadb_data[[\"motion_blur\"]])\n",
    "aadb_data[\"object\"] = bin_object.fit_transform(aadb_data[[\"object\"]])\n",
    "aadb_data[\"repetition\"] = bin_repetition.fit_transform(aadb_data[[\"repetition\"]])\n",
    "aadb_data[\"symmetry\"] = bin_symmetry.fit_transform(aadb_data[[\"symmetry\"]])\n",
    "aadb_data[\"rule_of_thirds\"] = bin_rule_of_thirds.fit_transform(aadb_data[[\"rule_of_thirds\"]])\n",
    "aadb_data[\"vivid_color\"] = bin_vivid_color.fit_transform(aadb_data[[\"vivid_color\"]])\n",
    "\n",
    "aadb_data.head(10)"
   ],
   "metadata": {
    "collapsed": false
   }
  },
  {
   "cell_type": "code",
   "execution_count": 92,
   "outputs": [
    {
     "data": {
      "text/plain": "                                           img_id  dof  balancing_elements  \\\n5901   bak_farm1_302_19571910503_369c279806_b.jpg  0.0                 0.0   \n5790   bak_farm1_495_19593818973_6b9ac4fab5_b.jpg  0.0                 0.0   \n1863   bak_farm1_329_20083473151_cafb3b9399_b.jpg  0.0                 0.0   \n2374   bak_farm1_271_20176288235_4f16a120fd_b.jpg  0.0                 0.0   \n7394   bak_farm1_363_19890336508_dd6a65e131_b.jpg  0.0                 0.0   \n3077   bak_farm1_350_19577036404_9b37cc2079_b.jpg  1.0                 0.0   \n7424   bak_farm1_448_20072910371_169dbc7fc3_b.jpg  0.0                 0.0   \n8162   bak_farm1_383_20165758766_0998e2c22b_b.jpg  0.0                 0.0   \n1117  bak_farm4_3808_19503552263_e634488f83_b.jpg  0.0                 0.0   \n368    bak_farm1_367_19981531329_976955dd61_b.jpg  0.0                 0.0   \n\n      color_harmony  content  light  motion_blur  object  repetition  \\\n5901            0.0      0.0    0.0          1.0     0.0         0.0   \n5790            0.0      1.0    0.0          1.0     1.0         1.0   \n1863            1.0      1.0    1.0          1.0     1.0         0.0   \n2374            1.0      1.0    1.0          1.0     0.0         1.0   \n7394            0.0      1.0    0.0          1.0     0.0         0.0   \n3077            0.0      1.0    1.0          1.0     1.0         0.0   \n7424            0.0      1.0    0.0          0.0     1.0         0.0   \n8162            0.0      0.0    0.0          0.0     1.0         0.0   \n1117            0.0      0.0    0.0          1.0     0.0         0.0   \n368             0.0      0.0    1.0          1.0     0.0         0.0   \n\n      symmetry  rule_of_thirds  vivid_color  \n5901       0.0             1.0          0.0  \n5790       0.0             1.0          0.0  \n1863       0.0             1.0          1.0  \n2374       1.0             1.0          1.0  \n7394       0.0             1.0          1.0  \n3077       0.0             0.0          1.0  \n7424       0.0             1.0          1.0  \n8162       0.0             1.0          1.0  \n1117       0.0             1.0          0.0  \n368        1.0             1.0          1.0  ",
      "text/html": "<div>\n<style scoped>\n    .dataframe tbody tr th:only-of-type {\n        vertical-align: middle;\n    }\n\n    .dataframe tbody tr th {\n        vertical-align: top;\n    }\n\n    .dataframe thead th {\n        text-align: right;\n    }\n</style>\n<table border=\"1\" class=\"dataframe\">\n  <thead>\n    <tr style=\"text-align: right;\">\n      <th></th>\n      <th>img_id</th>\n      <th>dof</th>\n      <th>balancing_elements</th>\n      <th>color_harmony</th>\n      <th>content</th>\n      <th>light</th>\n      <th>motion_blur</th>\n      <th>object</th>\n      <th>repetition</th>\n      <th>symmetry</th>\n      <th>rule_of_thirds</th>\n      <th>vivid_color</th>\n    </tr>\n  </thead>\n  <tbody>\n    <tr>\n      <th>5901</th>\n      <td>bak_farm1_302_19571910503_369c279806_b.jpg</td>\n      <td>0.0</td>\n      <td>0.0</td>\n      <td>0.0</td>\n      <td>0.0</td>\n      <td>0.0</td>\n      <td>1.0</td>\n      <td>0.0</td>\n      <td>0.0</td>\n      <td>0.0</td>\n      <td>1.0</td>\n      <td>0.0</td>\n    </tr>\n    <tr>\n      <th>5790</th>\n      <td>bak_farm1_495_19593818973_6b9ac4fab5_b.jpg</td>\n      <td>0.0</td>\n      <td>0.0</td>\n      <td>0.0</td>\n      <td>1.0</td>\n      <td>0.0</td>\n      <td>1.0</td>\n      <td>1.0</td>\n      <td>1.0</td>\n      <td>0.0</td>\n      <td>1.0</td>\n      <td>0.0</td>\n    </tr>\n    <tr>\n      <th>1863</th>\n      <td>bak_farm1_329_20083473151_cafb3b9399_b.jpg</td>\n      <td>0.0</td>\n      <td>0.0</td>\n      <td>1.0</td>\n      <td>1.0</td>\n      <td>1.0</td>\n      <td>1.0</td>\n      <td>1.0</td>\n      <td>0.0</td>\n      <td>0.0</td>\n      <td>1.0</td>\n      <td>1.0</td>\n    </tr>\n    <tr>\n      <th>2374</th>\n      <td>bak_farm1_271_20176288235_4f16a120fd_b.jpg</td>\n      <td>0.0</td>\n      <td>0.0</td>\n      <td>1.0</td>\n      <td>1.0</td>\n      <td>1.0</td>\n      <td>1.0</td>\n      <td>0.0</td>\n      <td>1.0</td>\n      <td>1.0</td>\n      <td>1.0</td>\n      <td>1.0</td>\n    </tr>\n    <tr>\n      <th>7394</th>\n      <td>bak_farm1_363_19890336508_dd6a65e131_b.jpg</td>\n      <td>0.0</td>\n      <td>0.0</td>\n      <td>0.0</td>\n      <td>1.0</td>\n      <td>0.0</td>\n      <td>1.0</td>\n      <td>0.0</td>\n      <td>0.0</td>\n      <td>0.0</td>\n      <td>1.0</td>\n      <td>1.0</td>\n    </tr>\n    <tr>\n      <th>3077</th>\n      <td>bak_farm1_350_19577036404_9b37cc2079_b.jpg</td>\n      <td>1.0</td>\n      <td>0.0</td>\n      <td>0.0</td>\n      <td>1.0</td>\n      <td>1.0</td>\n      <td>1.0</td>\n      <td>1.0</td>\n      <td>0.0</td>\n      <td>0.0</td>\n      <td>0.0</td>\n      <td>1.0</td>\n    </tr>\n    <tr>\n      <th>7424</th>\n      <td>bak_farm1_448_20072910371_169dbc7fc3_b.jpg</td>\n      <td>0.0</td>\n      <td>0.0</td>\n      <td>0.0</td>\n      <td>1.0</td>\n      <td>0.0</td>\n      <td>0.0</td>\n      <td>1.0</td>\n      <td>0.0</td>\n      <td>0.0</td>\n      <td>1.0</td>\n      <td>1.0</td>\n    </tr>\n    <tr>\n      <th>8162</th>\n      <td>bak_farm1_383_20165758766_0998e2c22b_b.jpg</td>\n      <td>0.0</td>\n      <td>0.0</td>\n      <td>0.0</td>\n      <td>0.0</td>\n      <td>0.0</td>\n      <td>0.0</td>\n      <td>1.0</td>\n      <td>0.0</td>\n      <td>0.0</td>\n      <td>1.0</td>\n      <td>1.0</td>\n    </tr>\n    <tr>\n      <th>1117</th>\n      <td>bak_farm4_3808_19503552263_e634488f83_b.jpg</td>\n      <td>0.0</td>\n      <td>0.0</td>\n      <td>0.0</td>\n      <td>0.0</td>\n      <td>0.0</td>\n      <td>1.0</td>\n      <td>0.0</td>\n      <td>0.0</td>\n      <td>0.0</td>\n      <td>1.0</td>\n      <td>0.0</td>\n    </tr>\n    <tr>\n      <th>368</th>\n      <td>bak_farm1_367_19981531329_976955dd61_b.jpg</td>\n      <td>0.0</td>\n      <td>0.0</td>\n      <td>0.0</td>\n      <td>0.0</td>\n      <td>1.0</td>\n      <td>1.0</td>\n      <td>0.0</td>\n      <td>0.0</td>\n      <td>1.0</td>\n      <td>1.0</td>\n      <td>1.0</td>\n    </tr>\n  </tbody>\n</table>\n</div>"
     },
     "execution_count": 92,
     "metadata": {},
     "output_type": "execute_result"
    }
   ],
   "source": [
    "# AADB数据集只有9958张图片，因此我们将其中一些图片进行复制，将数据集扩充到10000张图片\n",
    "aadb_data_new = aadb_data.sample(10000 - aadb_data.shape[0], random_state=20010125)\n",
    "aadb_data_new[\"img_id\"] = aadb_data_new[\"img_id\"].apply(lambda x: f\"bak_{x}\")\n",
    "aadb_data_new.head(10)"
   ],
   "metadata": {
    "collapsed": false
   }
  },
  {
   "cell_type": "code",
   "execution_count": 93,
   "outputs": [
    {
     "data": {
      "text/plain": "                                           img_id  dof  balancing_elements  \\\n5901   bak_farm1_302_19571910503_369c279806_b.jpg  0.0                 0.0   \n5790   bak_farm1_495_19593818973_6b9ac4fab5_b.jpg  0.0                 0.0   \n1863   bak_farm1_329_20083473151_cafb3b9399_b.jpg  0.0                 0.0   \n2374   bak_farm1_271_20176288235_4f16a120fd_b.jpg  0.0                 0.0   \n7394   bak_farm1_363_19890336508_dd6a65e131_b.jpg  0.0                 0.0   \n3077   bak_farm1_350_19577036404_9b37cc2079_b.jpg  1.0                 0.0   \n7424   bak_farm1_448_20072910371_169dbc7fc3_b.jpg  0.0                 0.0   \n8162   bak_farm1_383_20165758766_0998e2c22b_b.jpg  0.0                 0.0   \n1117  bak_farm4_3808_19503552263_e634488f83_b.jpg  0.0                 0.0   \n368    bak_farm1_367_19981531329_976955dd61_b.jpg  0.0                 0.0   \n\n      color_harmony  content  light  motion_blur  object  repetition  \\\n5901            0.0      0.0    0.0          1.0     0.0         0.0   \n5790            0.0      1.0    0.0          1.0     1.0         1.0   \n1863            1.0      1.0    1.0          1.0     1.0         0.0   \n2374            1.0      1.0    1.0          1.0     0.0         1.0   \n7394            0.0      1.0    0.0          1.0     0.0         0.0   \n3077            0.0      1.0    1.0          1.0     1.0         0.0   \n7424            0.0      1.0    0.0          0.0     1.0         0.0   \n8162            0.0      0.0    0.0          0.0     1.0         0.0   \n1117            0.0      0.0    0.0          1.0     0.0         0.0   \n368             0.0      0.0    1.0          1.0     0.0         0.0   \n\n      symmetry  rule_of_thirds  vivid_color  \n5901       0.0             1.0          0.0  \n5790       0.0             1.0          0.0  \n1863       0.0             1.0          1.0  \n2374       1.0             1.0          1.0  \n7394       0.0             1.0          1.0  \n3077       0.0             0.0          1.0  \n7424       0.0             1.0          1.0  \n8162       0.0             1.0          1.0  \n1117       0.0             1.0          0.0  \n368        1.0             1.0          1.0  ",
      "text/html": "<div>\n<style scoped>\n    .dataframe tbody tr th:only-of-type {\n        vertical-align: middle;\n    }\n\n    .dataframe tbody tr th {\n        vertical-align: top;\n    }\n\n    .dataframe thead th {\n        text-align: right;\n    }\n</style>\n<table border=\"1\" class=\"dataframe\">\n  <thead>\n    <tr style=\"text-align: right;\">\n      <th></th>\n      <th>img_id</th>\n      <th>dof</th>\n      <th>balancing_elements</th>\n      <th>color_harmony</th>\n      <th>content</th>\n      <th>light</th>\n      <th>motion_blur</th>\n      <th>object</th>\n      <th>repetition</th>\n      <th>symmetry</th>\n      <th>rule_of_thirds</th>\n      <th>vivid_color</th>\n    </tr>\n  </thead>\n  <tbody>\n    <tr>\n      <th>5901</th>\n      <td>bak_farm1_302_19571910503_369c279806_b.jpg</td>\n      <td>0.0</td>\n      <td>0.0</td>\n      <td>0.0</td>\n      <td>0.0</td>\n      <td>0.0</td>\n      <td>1.0</td>\n      <td>0.0</td>\n      <td>0.0</td>\n      <td>0.0</td>\n      <td>1.0</td>\n      <td>0.0</td>\n    </tr>\n    <tr>\n      <th>5790</th>\n      <td>bak_farm1_495_19593818973_6b9ac4fab5_b.jpg</td>\n      <td>0.0</td>\n      <td>0.0</td>\n      <td>0.0</td>\n      <td>1.0</td>\n      <td>0.0</td>\n      <td>1.0</td>\n      <td>1.0</td>\n      <td>1.0</td>\n      <td>0.0</td>\n      <td>1.0</td>\n      <td>0.0</td>\n    </tr>\n    <tr>\n      <th>1863</th>\n      <td>bak_farm1_329_20083473151_cafb3b9399_b.jpg</td>\n      <td>0.0</td>\n      <td>0.0</td>\n      <td>1.0</td>\n      <td>1.0</td>\n      <td>1.0</td>\n      <td>1.0</td>\n      <td>1.0</td>\n      <td>0.0</td>\n      <td>0.0</td>\n      <td>1.0</td>\n      <td>1.0</td>\n    </tr>\n    <tr>\n      <th>2374</th>\n      <td>bak_farm1_271_20176288235_4f16a120fd_b.jpg</td>\n      <td>0.0</td>\n      <td>0.0</td>\n      <td>1.0</td>\n      <td>1.0</td>\n      <td>1.0</td>\n      <td>1.0</td>\n      <td>0.0</td>\n      <td>1.0</td>\n      <td>1.0</td>\n      <td>1.0</td>\n      <td>1.0</td>\n    </tr>\n    <tr>\n      <th>7394</th>\n      <td>bak_farm1_363_19890336508_dd6a65e131_b.jpg</td>\n      <td>0.0</td>\n      <td>0.0</td>\n      <td>0.0</td>\n      <td>1.0</td>\n      <td>0.0</td>\n      <td>1.0</td>\n      <td>0.0</td>\n      <td>0.0</td>\n      <td>0.0</td>\n      <td>1.0</td>\n      <td>1.0</td>\n    </tr>\n    <tr>\n      <th>3077</th>\n      <td>bak_farm1_350_19577036404_9b37cc2079_b.jpg</td>\n      <td>1.0</td>\n      <td>0.0</td>\n      <td>0.0</td>\n      <td>1.0</td>\n      <td>1.0</td>\n      <td>1.0</td>\n      <td>1.0</td>\n      <td>0.0</td>\n      <td>0.0</td>\n      <td>0.0</td>\n      <td>1.0</td>\n    </tr>\n    <tr>\n      <th>7424</th>\n      <td>bak_farm1_448_20072910371_169dbc7fc3_b.jpg</td>\n      <td>0.0</td>\n      <td>0.0</td>\n      <td>0.0</td>\n      <td>1.0</td>\n      <td>0.0</td>\n      <td>0.0</td>\n      <td>1.0</td>\n      <td>0.0</td>\n      <td>0.0</td>\n      <td>1.0</td>\n      <td>1.0</td>\n    </tr>\n    <tr>\n      <th>8162</th>\n      <td>bak_farm1_383_20165758766_0998e2c22b_b.jpg</td>\n      <td>0.0</td>\n      <td>0.0</td>\n      <td>0.0</td>\n      <td>0.0</td>\n      <td>0.0</td>\n      <td>0.0</td>\n      <td>1.0</td>\n      <td>0.0</td>\n      <td>0.0</td>\n      <td>1.0</td>\n      <td>1.0</td>\n    </tr>\n    <tr>\n      <th>1117</th>\n      <td>bak_farm4_3808_19503552263_e634488f83_b.jpg</td>\n      <td>0.0</td>\n      <td>0.0</td>\n      <td>0.0</td>\n      <td>0.0</td>\n      <td>0.0</td>\n      <td>1.0</td>\n      <td>0.0</td>\n      <td>0.0</td>\n      <td>0.0</td>\n      <td>1.0</td>\n      <td>0.0</td>\n    </tr>\n    <tr>\n      <th>368</th>\n      <td>bak_farm1_367_19981531329_976955dd61_b.jpg</td>\n      <td>0.0</td>\n      <td>0.0</td>\n      <td>0.0</td>\n      <td>0.0</td>\n      <td>1.0</td>\n      <td>1.0</td>\n      <td>0.0</td>\n      <td>0.0</td>\n      <td>1.0</td>\n      <td>1.0</td>\n      <td>1.0</td>\n    </tr>\n  </tbody>\n</table>\n</div>"
     },
     "execution_count": 93,
     "metadata": {},
     "output_type": "execute_result"
    }
   ],
   "source": [
    "aadb_data = pd.concat([aadb_data_new, aadb_data], axis=0)\n",
    "aadb_data.head(10)"
   ],
   "metadata": {
    "collapsed": false
   }
  },
  {
   "cell_type": "code",
   "execution_count": 94,
   "outputs": [],
   "source": [
    "# 保存标签\n",
    "aadb_data.to_csv(\"../data/aadb.csv\", index=False)"
   ],
   "metadata": {
    "collapsed": false
   }
  },
  {
   "cell_type": "code",
   "execution_count": 95,
   "outputs": [],
   "source": [
    "from pathlib import Path\n",
    "from shutil import copy\n",
    "\n",
    "src_path = Path(\"../data/aadb_original\")  # 把这里换成你存放AADB数据集图片的文件夹\n",
    "dest_path = Path(\"../data/aadb\")\n",
    "\n",
    "for image in aadb_data[\"img_id\"]:\n",
    "    path = src_path / f\"{image}\"\n",
    "    if path.exists():\n",
    "        copy(path, dest_path)\n",
    "    else:\n",
    "        src_file = src_path / f\"{image.replace('bak_', '')}\"\n",
    "        copy(src_file, dest_path / f\"{image}\")"
   ],
   "metadata": {
    "collapsed": false
   }
  }
 ],
 "metadata": {
  "kernelspec": {
   "display_name": "Python 3",
   "language": "python",
   "name": "python3"
  },
  "language_info": {
   "codemirror_mode": {
    "name": "ipython",
    "version": 2
   },
   "file_extension": ".py",
   "mimetype": "text/x-python",
   "name": "python",
   "nbconvert_exporter": "python",
   "pygments_lexer": "ipython2",
   "version": "2.7.6"
  }
 },
 "nbformat": 4,
 "nbformat_minor": 0
}
