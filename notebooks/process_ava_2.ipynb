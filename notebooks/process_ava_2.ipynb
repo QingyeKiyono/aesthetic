{
 "cells": [
  {
   "cell_type": "code",
   "execution_count": 5,
   "metadata": {
    "collapsed": true,
    "ExecuteTime": {
     "start_time": "2023-04-02T14:57:02.542626Z",
     "end_time": "2023-04-02T14:57:02.547622Z"
    }
   },
   "outputs": [],
   "source": [
    "import pandas as pd\n",
    "from common import data_path"
   ]
  },
  {
   "cell_type": "code",
   "execution_count": 6,
   "outputs": [],
   "source": [
    "ava_ori= pd.read_csv(\"../data/raw_labels/AVA.txt\", sep=\" \",\n",
    "                       names=[\"index\", \"img_id\",\n",
    "                              \"score_1\", \"score_2\", \"score_3\", \"score_4\", \"score_5\",\n",
    "                              \"score_6\", \"score_7\", \"score_8\", \"score_9\", \"score_10\",\n",
    "                              \"sem_id_1\", \"sem_id_2\",\n",
    "                              \"challenge_id\"])\n",
    "\n",
    "ava_pro = pd.read_csv(data_path / \"ava.csv\")"
   ],
   "metadata": {
    "collapsed": false,
    "ExecuteTime": {
     "start_time": "2023-04-02T14:57:02.548621Z",
     "end_time": "2023-04-02T14:57:02.797636Z"
    }
   }
  },
  {
   "cell_type": "code",
   "execution_count": 12,
   "outputs": [
    {
     "data": {
      "text/plain": "   index  img_id  score_1  score_2  score_3  score_4  score_5  score_6  \\\n0     23  954228        5        9       17       17       43       18   \n1     30  953348        0        0        9       16       62       23   \n2     60  953794        0        0        5       30       48       30   \n3     97  954206        0        0        8       17       53       31   \n4    105  954133        1        0        9       22       51       32   \n5    117  954220        0        1        9       22       48       36   \n6    209  771404        3        7       32       53       55       15   \n7    224  770238        0        0        2        7       40       57   \n8    241  771425        5       16       37       59       30        9   \n9    271  771107        0        1        9       36       76       24   \n\n   score_7  score_8  score_9  score_10  avg_score  \n0       12        1        5         2      4.822  \n1       10        2        0         1      5.163  \n2        9        1        2         1      5.190  \n3        7        4        1         1      5.270  \n4        5        0        0         0      4.983  \n5        7        1        1         0      5.112  \n6        2        4        0         1      4.337  \n7       35       16        5         3      6.206  \n8        3        1        1         0      3.888  \n9       12        5        1         0      5.061  ",
      "text/html": "<div>\n<style scoped>\n    .dataframe tbody tr th:only-of-type {\n        vertical-align: middle;\n    }\n\n    .dataframe tbody tr th {\n        vertical-align: top;\n    }\n\n    .dataframe thead th {\n        text-align: right;\n    }\n</style>\n<table border=\"1\" class=\"dataframe\">\n  <thead>\n    <tr style=\"text-align: right;\">\n      <th></th>\n      <th>index</th>\n      <th>img_id</th>\n      <th>score_1</th>\n      <th>score_2</th>\n      <th>score_3</th>\n      <th>score_4</th>\n      <th>score_5</th>\n      <th>score_6</th>\n      <th>score_7</th>\n      <th>score_8</th>\n      <th>score_9</th>\n      <th>score_10</th>\n      <th>avg_score</th>\n    </tr>\n  </thead>\n  <tbody>\n    <tr>\n      <th>0</th>\n      <td>23</td>\n      <td>954228</td>\n      <td>5</td>\n      <td>9</td>\n      <td>17</td>\n      <td>17</td>\n      <td>43</td>\n      <td>18</td>\n      <td>12</td>\n      <td>1</td>\n      <td>5</td>\n      <td>2</td>\n      <td>4.822</td>\n    </tr>\n    <tr>\n      <th>1</th>\n      <td>30</td>\n      <td>953348</td>\n      <td>0</td>\n      <td>0</td>\n      <td>9</td>\n      <td>16</td>\n      <td>62</td>\n      <td>23</td>\n      <td>10</td>\n      <td>2</td>\n      <td>0</td>\n      <td>1</td>\n      <td>5.163</td>\n    </tr>\n    <tr>\n      <th>2</th>\n      <td>60</td>\n      <td>953794</td>\n      <td>0</td>\n      <td>0</td>\n      <td>5</td>\n      <td>30</td>\n      <td>48</td>\n      <td>30</td>\n      <td>9</td>\n      <td>1</td>\n      <td>2</td>\n      <td>1</td>\n      <td>5.190</td>\n    </tr>\n    <tr>\n      <th>3</th>\n      <td>97</td>\n      <td>954206</td>\n      <td>0</td>\n      <td>0</td>\n      <td>8</td>\n      <td>17</td>\n      <td>53</td>\n      <td>31</td>\n      <td>7</td>\n      <td>4</td>\n      <td>1</td>\n      <td>1</td>\n      <td>5.270</td>\n    </tr>\n    <tr>\n      <th>4</th>\n      <td>105</td>\n      <td>954133</td>\n      <td>1</td>\n      <td>0</td>\n      <td>9</td>\n      <td>22</td>\n      <td>51</td>\n      <td>32</td>\n      <td>5</td>\n      <td>0</td>\n      <td>0</td>\n      <td>0</td>\n      <td>4.983</td>\n    </tr>\n    <tr>\n      <th>5</th>\n      <td>117</td>\n      <td>954220</td>\n      <td>0</td>\n      <td>1</td>\n      <td>9</td>\n      <td>22</td>\n      <td>48</td>\n      <td>36</td>\n      <td>7</td>\n      <td>1</td>\n      <td>1</td>\n      <td>0</td>\n      <td>5.112</td>\n    </tr>\n    <tr>\n      <th>6</th>\n      <td>209</td>\n      <td>771404</td>\n      <td>3</td>\n      <td>7</td>\n      <td>32</td>\n      <td>53</td>\n      <td>55</td>\n      <td>15</td>\n      <td>2</td>\n      <td>4</td>\n      <td>0</td>\n      <td>1</td>\n      <td>4.337</td>\n    </tr>\n    <tr>\n      <th>7</th>\n      <td>224</td>\n      <td>770238</td>\n      <td>0</td>\n      <td>0</td>\n      <td>2</td>\n      <td>7</td>\n      <td>40</td>\n      <td>57</td>\n      <td>35</td>\n      <td>16</td>\n      <td>5</td>\n      <td>3</td>\n      <td>6.206</td>\n    </tr>\n    <tr>\n      <th>8</th>\n      <td>241</td>\n      <td>771425</td>\n      <td>5</td>\n      <td>16</td>\n      <td>37</td>\n      <td>59</td>\n      <td>30</td>\n      <td>9</td>\n      <td>3</td>\n      <td>1</td>\n      <td>1</td>\n      <td>0</td>\n      <td>3.888</td>\n    </tr>\n    <tr>\n      <th>9</th>\n      <td>271</td>\n      <td>771107</td>\n      <td>0</td>\n      <td>1</td>\n      <td>9</td>\n      <td>36</td>\n      <td>76</td>\n      <td>24</td>\n      <td>12</td>\n      <td>5</td>\n      <td>1</td>\n      <td>0</td>\n      <td>5.061</td>\n    </tr>\n  </tbody>\n</table>\n</div>"
     },
     "execution_count": 12,
     "metadata": {},
     "output_type": "execute_result"
    }
   ],
   "source": [
    "ava_new = pd.merge(left=ava_ori, right=ava_pro)\n",
    "ava_new.drop([\"sem_id_1\", \"sem_id_2\", \"challenge_id\"], axis=1, inplace=True)\n",
    "ava_new.head(10)"
   ],
   "metadata": {
    "collapsed": false,
    "ExecuteTime": {
     "start_time": "2023-04-02T15:02:33.976848Z",
     "end_time": "2023-04-02T15:02:34.060952Z"
    }
   }
  },
  {
   "cell_type": "code",
   "execution_count": 18,
   "outputs": [],
   "source": [
    "ava_pro.to_csv(data_path / \"ava_old.csv\", index=False)\n",
    "ava_new.to_csv(data_path / \"ava.csv\", index=False)"
   ],
   "metadata": {
    "collapsed": false,
    "ExecuteTime": {
     "start_time": "2023-04-02T15:13:23.740511Z",
     "end_time": "2023-04-02T15:13:23.801791Z"
    }
   }
  }
 ],
 "metadata": {
  "kernelspec": {
   "display_name": "Python 3",
   "language": "python",
   "name": "python3"
  },
  "language_info": {
   "codemirror_mode": {
    "name": "ipython",
    "version": 2
   },
   "file_extension": ".py",
   "mimetype": "text/x-python",
   "name": "python",
   "nbconvert_exporter": "python",
   "pygments_lexer": "ipython2",
   "version": "2.7.6"
  }
 },
 "nbformat": 4,
 "nbformat_minor": 0
}
